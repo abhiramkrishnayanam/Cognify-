{
 "cells": [
  {
   "cell_type": "markdown",
   "id": "15a7f8a1-7086-4fa1-9ad4-4c934c66d96c",
   "metadata": {},
   "source": [
    "<h2 style=\"color: blue; text-align: center; font-size: 30px;\"><b>Task: Table Booking and Online Delivery</b></h2>\n",
    "<h4 style=\"color: blue; text-align: center; font-size: 30px;\"><b>Level 2 : Task 1</b></h4>"
   ]
  },
  {
   "cell_type": "code",
   "execution_count": 40,
   "id": "30bfed0b-8251-4844-a8b1-2b8fbfa69707",
   "metadata": {},
   "outputs": [],
   "source": [
    "import pandas as pd\n",
    "import numpy as np\n",
    "import warnings\n",
    "warnings.simplefilter(\"ignore\")"
   ]
  },
  {
   "cell_type": "code",
   "execution_count": 4,
   "id": "b088838a-962e-4033-97d5-a1b1048bfb25",
   "metadata": {},
   "outputs": [],
   "source": [
    "df=pd.read_csv(\"Dataset1.csv\")"
   ]
  },
  {
   "cell_type": "code",
   "execution_count": 8,
   "id": "b909f4e4-c2bf-4b93-b9ec-5b5e860702f8",
   "metadata": {},
   "outputs": [
    {
     "data": {
      "text/html": [
       "<div>\n",
       "<style scoped>\n",
       "    .dataframe tbody tr th:only-of-type {\n",
       "        vertical-align: middle;\n",
       "    }\n",
       "\n",
       "    .dataframe tbody tr th {\n",
       "        vertical-align: top;\n",
       "    }\n",
       "\n",
       "    .dataframe thead th {\n",
       "        text-align: right;\n",
       "    }\n",
       "</style>\n",
       "<table border=\"1\" class=\"dataframe\">\n",
       "  <thead>\n",
       "    <tr style=\"text-align: right;\">\n",
       "      <th></th>\n",
       "      <th>Restaurant ID</th>\n",
       "      <th>Restaurant Name</th>\n",
       "      <th>Country Code</th>\n",
       "      <th>City</th>\n",
       "      <th>Address</th>\n",
       "      <th>Locality</th>\n",
       "      <th>Locality Verbose</th>\n",
       "      <th>Longitude</th>\n",
       "      <th>Latitude</th>\n",
       "      <th>Cuisines</th>\n",
       "      <th>...</th>\n",
       "      <th>Currency</th>\n",
       "      <th>Has Table booking</th>\n",
       "      <th>Has Online delivery</th>\n",
       "      <th>Is delivering now</th>\n",
       "      <th>Switch to order menu</th>\n",
       "      <th>Price range</th>\n",
       "      <th>Aggregate rating</th>\n",
       "      <th>Rating color</th>\n",
       "      <th>Rating text</th>\n",
       "      <th>Votes</th>\n",
       "    </tr>\n",
       "  </thead>\n",
       "  <tbody>\n",
       "    <tr>\n",
       "      <th>0</th>\n",
       "      <td>6317637</td>\n",
       "      <td>Le Petit Souffle</td>\n",
       "      <td>162</td>\n",
       "      <td>Makati City</td>\n",
       "      <td>Third Floor, Century City Mall, Kalayaan Avenu...</td>\n",
       "      <td>Century City Mall, Poblacion, Makati City</td>\n",
       "      <td>Century City Mall, Poblacion, Makati City, Mak...</td>\n",
       "      <td>121.027535</td>\n",
       "      <td>14.565443</td>\n",
       "      <td>French, Japanese, Desserts</td>\n",
       "      <td>...</td>\n",
       "      <td>Botswana Pula(P)</td>\n",
       "      <td>Yes</td>\n",
       "      <td>No</td>\n",
       "      <td>No</td>\n",
       "      <td>No</td>\n",
       "      <td>3</td>\n",
       "      <td>4.8</td>\n",
       "      <td>Dark Green</td>\n",
       "      <td>Excellent</td>\n",
       "      <td>314</td>\n",
       "    </tr>\n",
       "    <tr>\n",
       "      <th>1</th>\n",
       "      <td>6304287</td>\n",
       "      <td>Izakaya Kikufuji</td>\n",
       "      <td>162</td>\n",
       "      <td>Makati City</td>\n",
       "      <td>Little Tokyo, 2277 Chino Roces Avenue, Legaspi...</td>\n",
       "      <td>Little Tokyo, Legaspi Village, Makati City</td>\n",
       "      <td>Little Tokyo, Legaspi Village, Makati City, Ma...</td>\n",
       "      <td>121.014101</td>\n",
       "      <td>14.553708</td>\n",
       "      <td>Japanese</td>\n",
       "      <td>...</td>\n",
       "      <td>Botswana Pula(P)</td>\n",
       "      <td>Yes</td>\n",
       "      <td>No</td>\n",
       "      <td>No</td>\n",
       "      <td>No</td>\n",
       "      <td>3</td>\n",
       "      <td>4.5</td>\n",
       "      <td>Dark Green</td>\n",
       "      <td>Excellent</td>\n",
       "      <td>591</td>\n",
       "    </tr>\n",
       "  </tbody>\n",
       "</table>\n",
       "<p>2 rows × 21 columns</p>\n",
       "</div>"
      ],
      "text/plain": [
       "   Restaurant ID   Restaurant Name  Country Code         City  \\\n",
       "0        6317637  Le Petit Souffle           162  Makati City   \n",
       "1        6304287  Izakaya Kikufuji           162  Makati City   \n",
       "\n",
       "                                             Address  \\\n",
       "0  Third Floor, Century City Mall, Kalayaan Avenu...   \n",
       "1  Little Tokyo, 2277 Chino Roces Avenue, Legaspi...   \n",
       "\n",
       "                                     Locality  \\\n",
       "0   Century City Mall, Poblacion, Makati City   \n",
       "1  Little Tokyo, Legaspi Village, Makati City   \n",
       "\n",
       "                                    Locality Verbose   Longitude   Latitude  \\\n",
       "0  Century City Mall, Poblacion, Makati City, Mak...  121.027535  14.565443   \n",
       "1  Little Tokyo, Legaspi Village, Makati City, Ma...  121.014101  14.553708   \n",
       "\n",
       "                     Cuisines  ...          Currency Has Table booking  \\\n",
       "0  French, Japanese, Desserts  ...  Botswana Pula(P)               Yes   \n",
       "1                    Japanese  ...  Botswana Pula(P)               Yes   \n",
       "\n",
       "  Has Online delivery Is delivering now Switch to order menu Price range  \\\n",
       "0                  No                No                   No           3   \n",
       "1                  No                No                   No           3   \n",
       "\n",
       "   Aggregate rating  Rating color Rating text Votes  \n",
       "0               4.8    Dark Green   Excellent   314  \n",
       "1               4.5    Dark Green   Excellent   591  \n",
       "\n",
       "[2 rows x 21 columns]"
      ]
     },
     "execution_count": 8,
     "metadata": {},
     "output_type": "execute_result"
    }
   ],
   "source": [
    "df.head(2)"
   ]
  },
  {
   "cell_type": "markdown",
   "id": "113e3207-29cd-4e49-b996-95e93d07f9bb",
   "metadata": {},
   "source": [
    "### 1. Determine the percentage of restaurants that offer table booking and online delivery."
   ]
  },
  {
   "cell_type": "code",
   "execution_count": 20,
   "id": "520c1550-1c21-475d-b0cd-52f2ea7cc924",
   "metadata": {},
   "outputs": [
    {
     "data": {
      "text/plain": [
       "9551"
      ]
     },
     "execution_count": 20,
     "metadata": {},
     "output_type": "execute_result"
    }
   ],
   "source": [
    "#Total number of restaurant\n",
    "total=len(df)\n",
    "total"
   ]
  },
  {
   "cell_type": "code",
   "execution_count": 22,
   "id": "e258034c-d78d-4467-82a6-e9b148c4cdff",
   "metadata": {},
   "outputs": [
    {
     "name": "stdout",
     "output_type": "stream",
     "text": [
      "Percentage of restaurants with table booking: 12.12%\n",
      "Percentage of restaurants with online delivery: 25.66%\n"
     ]
    }
   ],
   "source": [
    "#Restaurants that offer table booking\n",
    "table_booking_count=len(df[df['Has Table booking']== 'Yes'])\n",
    "table_booking_percentage=(table_booking_count/total)*100\n",
    "online_delivery_count=len(df[df['Has Online delivery']== 'Yes'])\n",
    "online_delivery_percentage=(online_delivery_count/total)*100\n",
    "print(f\"Percentage of restaurants with table booking: {table_booking_percentage:.2f}%\")\n",
    "print(f\"Percentage of restaurants with online delivery: {online_delivery_percentage:.2f}%\")"
   ]
  },
  {
   "cell_type": "markdown",
   "id": "c01765be-f958-48cd-8d69-975f98e212d9",
   "metadata": {},
   "source": [
    "### 2. Compare the average ratings of restaurants with table booking and those without."
   ]
  },
  {
   "cell_type": "code",
   "execution_count": 32,
   "id": "44a0a41a-7b67-44dc-b970-bc6ecb509a3d",
   "metadata": {},
   "outputs": [
    {
     "name": "stdout",
     "output_type": "stream",
     "text": [
      "Average rating of restaurants with table booking: 3.44\n",
      "Average rating of restaurants without table booking: 2.56\n"
     ]
    }
   ],
   "source": [
    "# Filter data by table booking status\n",
    "with_table_booking = df[df[\"Has Table booking\"] == \"Yes\"]\n",
    "without_table_booking = df[df[\"Has Table booking\"] == \"No\"]\n",
    "# Calculate average ratings\n",
    "avg_with=with_table_booking['Aggregate rating'].mean()\n",
    "avg_without=without_table_booking['Aggregate rating'].mean()\n",
    "print(f\"Average rating of restaurants with table booking: {avg_with:.2f}\")\n",
    "print(f\"Average rating of restaurants without table booking: {avg_without:.2f}\")"
   ]
  },
  {
   "cell_type": "markdown",
   "id": "07882122-4fee-4fb6-adee-f1b8553ced92",
   "metadata": {},
   "source": [
    "### 3. Analyze the availability of online delivery among restaurants with different price ranges."
   ]
  },
  {
   "cell_type": "code",
   "execution_count": 52,
   "id": "cb80e82b-5b1b-40b5-89e5-ccf95caa0121",
   "metadata": {},
   "outputs": [
    {
     "name": "stdout",
     "output_type": "stream",
     "text": [
      "Availability of online delivery (in percentage) among restaurants with different price ranges:\n",
      "   Price range  Online delivery (%)\n",
      "0            1            15.774077\n",
      "1            2            41.310633\n",
      "2            3            29.190341\n",
      "3            4             9.044369\n"
     ]
    }
   ],
   "source": [
    "# Group by Price Range and analyze online delivery availability\n",
    "delivery_analysis=( \n",
    "    df.groupby('Price range')['Has Online delivery']\n",
    "    .apply(lambda x: (x==\"Yes\").mean()*100).reset_index()\n",
    ")\n",
    "# Rename columns for clarity\n",
    "delivery_analysis.columns=[\"Price range\", \"Online delivery (%)\"]\n",
    "print('Availability of online delivery (in percentage)among restaurants with different price ranges.')\n",
    "print(delivery_analysis)"
   ]
  },
  {
   "cell_type": "code",
   "execution_count": null,
   "id": "90097927-bd91-4bdb-8e3e-2692219017d8",
   "metadata": {},
   "outputs": [],
   "source": []
  }
 ],
 "metadata": {
  "kernelspec": {
   "display_name": "Python [conda env:base] *",
   "language": "python",
   "name": "conda-base-py"
  },
  "language_info": {
   "codemirror_mode": {
    "name": "ipython",
    "version": 3
   },
   "file_extension": ".py",
   "mimetype": "text/x-python",
   "name": "python",
   "nbconvert_exporter": "python",
   "pygments_lexer": "ipython3",
   "version": "3.12.7"
  }
 },
 "nbformat": 4,
 "nbformat_minor": 5
}
